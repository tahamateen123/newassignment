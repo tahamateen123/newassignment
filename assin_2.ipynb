{
 "cells": [
  {
   "cell_type": "code",
   "execution_count": 1,
   "metadata": {},
   "outputs": [
    {
     "name": "stdout",
     "output_type": "stream",
     "text": [
      "Enter marks of the Computer subject: 90\n",
      "Enter marks of the HTML subject: 89\n",
      "Enter marks of the CSS subject: 66\n",
      "Enter marks of the Python subject: 58\n",
      "Enter marks of the MySQL subject: 70\n",
      "Grade: B\n"
     ]
    }
   ],
   "source": [
    "sub1=int(input(\"Enter marks of the Computer subject: \"))\n",
    "sub2=int(input(\"Enter marks of the HTML subject: \"))\n",
    "sub3=int(input(\"Enter marks of the CSS subject: \"))\n",
    "sub4=int(input(\"Enter marks of the Python subject: \"))\n",
    "sub5=int(input(\"Enter marks of the MySQL subject: \"))\n",
    "obt=(sub1+sub2+sub3+sub4+sub4)\n",
    "per = (obt*100)/500\n",
    "if(per>=90):\n",
    "    print(\"Grade: A+\")\n",
    "elif(per>=80):\n",
    "    print(\"Grade: A\")\n",
    "elif(per>=60):\n",
    "    print(\"Grade: B\")\n",
    "elif(per>=50):\n",
    "    print(\"Grade: C\")\n",
    "elif(per>=40):\n",
    "    print(\"Grade: D\")\n",
    "elif(per<40):\n",
    "    print(\"You are Fail\")"
   ]
  },
  {
   "cell_type": "code",
   "execution_count": 2,
   "metadata": {},
   "outputs": [
    {
     "name": "stdout",
     "output_type": "stream",
     "text": [
      "Enter a number: 9\n",
      "9 is Odd number\n"
     ]
    }
   ],
   "source": [
    "num = int(input(\"Enter a number: \"))  \n",
    "if (num % 2) == 0:  \n",
    "   print(\"{0} is Even number\".format(num))  \n",
    "else:  \n",
    "   print(\"{0} is Odd number\".format(num))"
   ]
  },
  {
   "cell_type": "code",
   "execution_count": 6,
   "metadata": {},
   "outputs": [
    {
     "name": "stdout",
     "output_type": "stream",
     "text": [
      "The length of list is:  6\n"
     ]
    }
   ],
   "source": [
    "n =len([10, 20,13,50, 30, 50]) \n",
    "print(\"The length of list is: \", n)"
   ]
  },
  {
   "cell_type": "code",
   "execution_count": 5,
   "metadata": {},
   "outputs": [
    {
     "name": "stdout",
     "output_type": "stream",
     "text": [
      "60\n"
     ]
    }
   ],
   "source": [
    "numbers =[1,2,3,4,5,6,3,8,9,3,6,1,4,5] \n",
    "  \n",
    "add=sum(numbers) \n",
    "print(add)"
   ]
  },
  {
   "cell_type": "code",
   "execution_count": 8,
   "metadata": {},
   "outputs": [
    {
     "name": "stdout",
     "output_type": "stream",
     "text": [
      "Largest element is: 120\n"
     ]
    }
   ],
   "source": [
    "list1 =[10, 20, 40, 45, 49, 120, 80] \n",
    "   \n",
    "print(\"Largest element is:\", max(list1))"
   ]
  },
  {
   "cell_type": "code",
   "execution_count": 9,
   "metadata": {},
   "outputs": [
    {
     "name": "stdout",
     "output_type": "stream",
     "text": [
      "The list : [1, 1, 2, 3, 5, 8, 13, 21, 34, 55, 89]\n",
      "The numbers less than 5 : 4\n"
     ]
    }
   ],
   "source": [
    "test_list = [1, 1, 2, 3, 5, 8, 13, 21, 34, 55, 89] \n",
    "\n",
    "# initializing N \n",
    "n = 5\n",
    "\n",
    "print (\"The list : \" + str(test_list)) \n",
    "\n",
    "count = len([i for i in test_list if i < n]) \n",
    "\n",
    "print (\"The numbers less than 5 : \" + str(count))"
   ]
  },
  {
   "cell_type": "code",
   "execution_count": null,
   "metadata": {},
   "outputs": [],
   "source": []
  }
 ],
 "metadata": {
  "kernelspec": {
   "display_name": "Python 3",
   "language": "python",
   "name": "python3"
  },
  "language_info": {
   "codemirror_mode": {
    "name": "ipython",
    "version": 3
   },
   "file_extension": ".py",
   "mimetype": "text/x-python",
   "name": "python",
   "nbconvert_exporter": "python",
   "pygments_lexer": "ipython3",
   "version": "3.7.4"
  }
 },
 "nbformat": 4,
 "nbformat_minor": 2
}
