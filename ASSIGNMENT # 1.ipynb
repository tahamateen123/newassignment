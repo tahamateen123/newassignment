{
 "cells": [
  {
   "cell_type": "code",
   "execution_count": 1,
   "metadata": {},
   "outputs": [
    {
     "name": "stdout",
     "output_type": "stream",
     "text": [
      "TWINKLE, TWINKLE, LITTLE STAR,\n",
      "\t HOW I WONDER WHAT YOU ARE!\n",
      "\t\t UP ABOVE THE WORLD SO HIGH,\n",
      "\t\t LIKE A DIAMOND IN THE SKY.\n",
      "TWINKLE, TWINKLE, LITTLE STAR,\n",
      "\t HOW I WONDER WHAT YOU ARE\n"
     ]
    }
   ],
   "source": [
    "#Q NO 1: Write a program to ptint the foolowing string with specific format.\n",
    "print(\"TWINKLE, TWINKLE, LITTLE STAR,\\n\\t HOW I WONDER WHAT YOU ARE!\\n\\t\\t UP ABOVE THE WORLD SO HIGH,\\n\\t\\t LIKE A DIAMOND IN THE SKY.\\nTWINKLE, TWINKLE, LITTLE STAR,\\n\\t HOW I WONDER WHAT YOU ARE\")"
   ]
  },
  {
   "cell_type": "code",
   "execution_count": 2,
   "metadata": {},
   "outputs": [
    {
     "name": "stdout",
     "output_type": "stream",
     "text": [
      "PYTHON VERSION\n",
      "3.7.4 (default, Aug  9 2019, 18:34:13) [MSC v.1915 64 bit (AMD64)]\n"
     ]
    }
   ],
   "source": [
    "#Q NO 2:WRITE A PROGRAM TO GET THE PYTHON VERSION YOU ARE USING. \n",
    "print(\"PYTHON VERSION\")\n",
    "import sys\n",
    "print(sys.version)"
   ]
  },
  {
   "cell_type": "code",
   "execution_count": 3,
   "metadata": {},
   "outputs": [
    {
     "name": "stdout",
     "output_type": "stream",
     "text": [
      "CURRENT DATE AND TIME\n",
      "current date and time:03-11-19 02-46-09\n"
     ]
    }
   ],
   "source": [
    "#Q NO 3: WRITE A PROGRAM TO DISPLAY THE CURRENT DATE AND TIME.\n",
    "print(\"CURRENT DATE AND TIME\")\n",
    "import datetime\n",
    "now = datetime.datetime.now()\n",
    "print(\"current date and time:\"+now.strftime(\"%d-%m-%y %H-%M-%S\"))"
   ]
  },
  {
   "cell_type": "code",
   "execution_count": 4,
   "metadata": {},
   "outputs": [
    {
     "name": "stdout",
     "output_type": "stream",
     "text": [
      "input the radius of a circle :5\n",
      "THE AREA OF A CIRCLE WITH RADIUS 5.0is:78.53981633974483\n"
     ]
    }
   ],
   "source": [
    "#Q NO 4:WRITE A PROGRAM WHICH ACCEPT THE RADIUS OF A CIRCLE FROM THE USER AND THE COMPUTE THE AREA.\n",
    "from math import  pi\n",
    "r = float(input(\"input the radius of a circle :\"))\n",
    "print(\"THE AREA OF A CIRCLE WITH RADIUS \"+ str(r)+ \"is:\"+str(pi * r**2))  "
   ]
  },
  {
   "cell_type": "code",
   "execution_count": 5,
   "metadata": {},
   "outputs": [
    {
     "name": "stdout",
     "output_type": "stream",
     "text": [
      "firstname:ANWAR\n",
      "lastname:KHAN\n",
      "KHAN  ANWAR\n"
     ]
    }
   ],
   "source": [
    "#Q NO 5:WRITE A PROGRAM WHICH ACCEPT THE USER'S FIRST AND LAST NAME AND PRINT THEM IN REVERSE ORDER WITH  A SPACE BETWEEN THEM.\n",
    "fn = input(\"firstname:\")\n",
    "ln = input(\"lastname:\") \n",
    "print(ln+ \"  \"+ fn)"
   ]
  },
  {
   "cell_type": "code",
   "execution_count": 6,
   "metadata": {},
   "outputs": [
    {
     "name": "stdout",
     "output_type": "stream",
     "text": [
      "VLAUE ONE:4\n",
      "VALUE TWO:2\n",
      "6\n"
     ]
    }
   ],
   "source": [
    "#Q NO 6:WRITE A PROGRAM WHICH TAKE TWO INPUT FROM USER AND PRINT THEM ADDITION .\n",
    "a = int(input(\"VLAUE ONE:\"))\n",
    "b = int(input(\"VALUE TWO:\"))\n",
    "c=a+b\n",
    "print(c)"
   ]
  },
  {
   "cell_type": "code",
   "execution_count": null,
   "metadata": {},
   "outputs": [],
   "source": []
  }
 ],
 "metadata": {
  "kernelspec": {
   "display_name": "Python 3",
   "language": "python",
   "name": "python3"
  },
  "language_info": {
   "codemirror_mode": {
    "name": "ipython",
    "version": 3
   },
   "file_extension": ".py",
   "mimetype": "text/x-python",
   "name": "python",
   "nbconvert_exporter": "python",
   "pygments_lexer": "ipython3",
   "version": "3.7.4"
  }
 },
 "nbformat": 4,
 "nbformat_minor": 2
}
