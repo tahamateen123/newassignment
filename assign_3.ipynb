{
 "cells": [
  {
   "cell_type": "code",
   "execution_count": 1,
   "metadata": {},
   "outputs": [
    {
     "name": "stdout",
     "output_type": "stream",
     "text": [
      "Enter Your First Value 5\n",
      "Enter You Second Value 3\n",
      "Enter Your Operator *\n",
      "15 Answer\n"
     ]
    }
   ],
   "source": [
    "val1 = int(input(\"Enter Your First Value \"))\n",
    "val2 = int(input(\"Enter You Second Value \"))\n",
    "operator = input(\"Enter Your Operator \")\n",
    "\n",
    "if operator == \"+\":\n",
    " val = val1 + val2\n",
    " print(val,\"Answer\")\n",
    " \n",
    "elif operator == \"-\":\n",
    " val = val1 - val2\n",
    " print(val,\"Answer\")\n",
    " \n",
    "elif operator == \"*\":\n",
    " val = val1 * val2\n",
    " print(val,\"Answer\")\n",
    " \n",
    "elif operator == \"/\":\n",
    " val = val1 / val2\n",
    " print(val,\"Answer\")\n",
    " \n",
    "elif operator == \"**\":\n",
    " val = val1 ** val2\n",
    " print(val,\"Answer\")\n",
    "\n",
    "else:\n",
    "  print(\"Enter Correct operator\")"
   ]
  },
  {
   "cell_type": "code",
   "execution_count": 2,
   "metadata": {},
   "outputs": [
    {
     "name": "stdout",
     "output_type": "stream",
     "text": [
      "['1', '2', '3', '4']\n",
      "['1', '2', '3', '4']\n",
      "['1', '2', '3', '4']\n",
      "['1', '2', '3', '4']\n",
      "['1', '2', '3', '4']\n",
      "['1', '2', '3', '4']\n"
     ]
    }
   ],
   "source": [
    "mylist=['1','Amjad','2','Haseeb','3','4']\n",
    "for item in mylist:\n",
    "    mynewlist =  [s for s in mylist if s.isdigit()]\n",
    "    print(mynewlist)"
   ]
  },
  {
   "cell_type": "code",
   "execution_count": 3,
   "metadata": {},
   "outputs": [
    {
     "name": "stdout",
     "output_type": "stream",
     "text": [
      "{'Employee_ID': '0001 ', 'Full Name': 'Haseeb Rehman', 'Father Name': 'Amjad Ali', 'Salary': '40000'}\n"
     ]
    }
   ],
   "source": [
    "Employee = {\"Employee_ID\": \"0001 \",\n",
    "            \"Full Name\": \"Haseeb Rehman\",\n",
    "            \"Father Name\": \"Amjad Ali\",\n",
    "           }\n",
    "Employee[\"Salary\"] = \"40000\"\n",
    "print(Employee)"
   ]
  },
  {
   "cell_type": "code",
   "execution_count": 9,
   "metadata": {},
   "outputs": [
    {
     "name": "stdout",
     "output_type": "stream",
     "text": [
      "80\n"
     ]
    }
   ],
   "source": [
    "Data = {'val1':10,'val2':40,'val3':30}\n",
    "print(sum(Data.values()))"
   ]
  },
  {
   "cell_type": "code",
   "execution_count": 8,
   "metadata": {},
   "outputs": [
    {
     "name": "stdout",
     "output_type": "stream",
     "text": [
      "[2, 4, 30]\n"
     ]
    }
   ],
   "source": [
    "Data_check_dup = [ 2, 30, 4, 6, 2, 10, 4, 2, 30, 5, 12, 7]\n",
    "dupItems = []\n",
    "uniqItems = {}\n",
    "for x in Data_check_dup:\n",
    "   if x not in uniqItems:\n",
    "      uniqItems[x] = 1\n",
    "   else:\n",
    "      if uniqItems[x] == 1:\n",
    "         dupItems.append(x)\n",
    "      uniqItems[x] += 1\n",
    "print(dupItems)"
   ]
  },
  {
   "cell_type": "code",
   "execution_count": 7,
   "metadata": {},
   "outputs": [
    {
     "name": "stdout",
     "output_type": "stream",
     "text": [
      "Key is present in the dictionary\n",
      "Key is not present in the dictionary\n"
     ]
    }
   ],
   "source": [
    "a = {1: 5, 2: 10, 3: 15, 4: 20, 5: 25, 6: 30}\n",
    "def is_key_present(x):\n",
    "  if x in a:\n",
    "      print('Key is present in the dictionary')\n",
    "  else:\n",
    "      print('Key is not present in the dictionary')\n",
    "is_key_present(2)\n",
    "is_key_present(10)"
   ]
  },
  {
   "cell_type": "code",
   "execution_count": null,
   "metadata": {},
   "outputs": [],
   "source": []
  }
 ],
 "metadata": {
  "kernelspec": {
   "display_name": "Python 3",
   "language": "python",
   "name": "python3"
  },
  "language_info": {
   "codemirror_mode": {
    "name": "ipython",
    "version": 3
   },
   "file_extension": ".py",
   "mimetype": "text/x-python",
   "name": "python",
   "nbconvert_exporter": "python",
   "pygments_lexer": "ipython3",
   "version": "3.7.4"
  }
 },
 "nbformat": 4,
 "nbformat_minor": 2
}
